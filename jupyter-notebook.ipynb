{
 "cells": [
  {
   "cell_type": "code",
   "execution_count": 45,
   "metadata": {},
   "outputs": [],
   "source": [
    "from rdflib import Graph\n",
    "from pyshacl import validate\n",
    "\n"
   ]
  },
  {
   "cell_type": "code",
   "execution_count": 46,
   "metadata": {},
   "outputs": [
    {
     "data": {
      "text/plain": [
       "<Graph identifier=Na6ca3e9837164e7ca60f4f73947c9eeb (<class 'rdflib.graph.Graph'>)>"
      ]
     },
     "execution_count": 46,
     "metadata": {},
     "output_type": "execute_result"
    }
   ],
   "source": [
    "# Load the graphs\n",
    "data_graph = Graph()\n",
    "data_graph.parse(\"data.ttl\", format=\"turtle\")\n",
    "\n",
    "shapes_graph = Graph()\n",
    "shapes_graph.parse(\"shapes.ttl\", format=\"turtle\")\n",
    "\n",
    "ont_graph = Graph()\n",
    "ont_graph.parse(\"ontology.ttl\", format=\"turtle\")"
   ]
  },
  {
   "cell_type": "code",
   "execution_count": 47,
   "metadata": {},
   "outputs": [
    {
     "name": "stdout",
     "output_type": "stream",
     "text": [
      "Validation including ontology: passed!\n",
      "Validation without ontology: failed!\n",
      "\n",
      "Validation Report:\n",
      "Validation Report\n",
      "Conforms: False\n",
      "Results (1):\n",
      "Constraint Violation in ClassConstraintComponent (http://www.w3.org/ns/shacl#ClassConstraintComponent):\n",
      "\tSeverity: sh:Violation\n",
      "\tSource Shape: [ sh:class :Gender ; sh:in ( :Male :Female :Unknown ) ; sh:maxCount Literal(\"1\", datatype=xsd:integer) ; sh:minCount Literal(\"1\", datatype=xsd:integer) ; sh:path :hasGender ]\n",
      "\tFocus Node: :Consumer123\n",
      "\tValue Node: :Male\n",
      "\tResult Path: :hasGender\n",
      "\tMessage: Value does not have class :Gender\n",
      "\n"
     ]
    }
   ],
   "source": [
    "# Perform validation while including ontology\n",
    "conforms, results_graph, results_text = validate(\n",
    "    data_graph,\n",
    "    shacl_graph=shapes_graph,\n",
    "    ont_graph=ont_graph,\n",
    "    debug=False\n",
    ")\n",
    "\n",
    "# Print results\n",
    "print(f\"Validation including ontology: {'passed' if conforms else 'failed'}!\")\n",
    "if not conforms:\n",
    "    print(\"\\nValidation Report:\")\n",
    "    print(results_text) \n",
    "\n",
    "# Perform validation while including ontology\n",
    "conforms, results_graph, results_text = validate(\n",
    "    data_graph,\n",
    "    shacl_graph=shapes_graph,\n",
    "    # ont_graph=ont_graph, # UNCOMMENT TO TEST WITH/WITHOUT ONTOLOGY\n",
    "    debug=False\n",
    ")\n",
    "\n",
    "# Print results\n",
    "print(f\"Validation without ontology: {'passed' if conforms else 'failed'}!\")\n",
    "if not conforms:\n",
    "    print(\"\\nValidation Report:\")\n",
    "    print(results_text) "
   ]
  }
 ],
 "metadata": {
  "kernelspec": {
   "display_name": "venv",
   "language": "python",
   "name": "python3"
  },
  "language_info": {
   "codemirror_mode": {
    "name": "ipython",
    "version": 3
   },
   "file_extension": ".py",
   "mimetype": "text/x-python",
   "name": "python",
   "nbconvert_exporter": "python",
   "pygments_lexer": "ipython3",
   "version": "3.13.3"
  }
 },
 "nbformat": 4,
 "nbformat_minor": 2
}
